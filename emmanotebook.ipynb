{
 "cells": [
  {
   "cell_type": "code",
   "execution_count": 1,
   "id": "61469ac4",
   "metadata": {
    "_cell_guid": "b1076dfc-b9ad-4769-8c92-a6c4dae69d19",
    "_uuid": "8f2839f25d086af736a60e9eeb907d3b93b6e0e5",
    "execution": {
     "iopub.execute_input": "2025-05-07T06:10:45.261151Z",
     "iopub.status.busy": "2025-05-07T06:10:45.260771Z",
     "iopub.status.idle": "2025-05-07T06:10:45.265097Z",
     "shell.execute_reply": "2025-05-07T06:10:45.264464Z"
    },
    "papermill": {
     "duration": 0.008711,
     "end_time": "2025-05-07T06:10:45.266489",
     "exception": false,
     "start_time": "2025-05-07T06:10:45.257778",
     "status": "completed"
    },
    "tags": []
   },
   "outputs": [],
   "source": [
    "#this is my first notebook"
   ]
  }
 ],
 "metadata": {
  "kaggle": {
   "accelerator": "none",
   "dataSources": [],
   "isGpuEnabled": false,
   "isInternetEnabled": false,
   "language": "python",
   "sourceType": "notebook"
  },
  "kernelspec": {
   "display_name": "Python 3",
   "language": "python",
   "name": "python3"
  },
  "language_info": {
   "codemirror_mode": {
    "name": "ipython",
    "version": 3
   },
   "file_extension": ".py",
   "mimetype": "text/x-python",
   "name": "python",
   "nbconvert_exporter": "python",
   "pygments_lexer": "ipython3",
   "version": "3.11.11"
  },
  "papermill": {
   "default_parameters": {},
   "duration": 4.792236,
   "end_time": "2025-05-07T06:10:45.585491",
   "environment_variables": {},
   "exception": null,
   "input_path": "__notebook__.ipynb",
   "output_path": "__notebook__.ipynb",
   "parameters": {},
   "start_time": "2025-05-07T06:10:40.793255",
   "version": "2.6.0"
  }
 },
 "nbformat": 4,
 "nbformat_minor": 5
}
